{
 "cells": [
  {
   "cell_type": "markdown",
   "metadata": {},
   "source": [
    "# Project Clock Timer\n",
    "- Clock timer\n",
    "- UI\n",
    "- Email updates daily"
   ]
  },
  {
   "cell_type": "code",
   "execution_count": null,
   "metadata": {},
   "outputs": [],
   "source": [
    "# TODO:\n",
    "    # Create the clock and timer\n",
    "    # Day \n",
    "    # Hour\n",
    "    # Min\n",
    "    # Sec"
   ]
  },
  {
   "cell_type": "code",
   "execution_count": null,
   "metadata": {},
   "outputs": [],
   "source": [
    "import time\n",
    "import sys"
   ]
  },
  {
   "cell_type": "code",
   "execution_count": null,
   "metadata": {},
   "outputs": [],
   "source": [
    "help(time)"
   ]
  },
  {
   "cell_type": "code",
   "execution_count": null,
   "metadata": {},
   "outputs": [],
   "source": [
    "# Could potenatil use this but the UI would need to update every sec to show the real time.\n",
    "year, month, day, hour, min, sec = map(int, time.strftime(\"%Y %m %d %H %M %S\").split())"
   ]
  },
  {
   "cell_type": "code",
   "execution_count": null,
   "metadata": {},
   "outputs": [],
   "source": [
    "sec"
   ]
  },
  {
   "cell_type": "code",
   "execution_count": null,
   "metadata": {},
   "outputs": [],
   "source": [
    "# This block counts the time down by the second\n",
    "x = True\n",
    "while x == True:\n",
    "    year, month, day, hour, min, sec = map(int, time.strftime(\"%Y %m %d %H %M %S\").split())\n",
    "    print(year, month, day, hour, min, sec)\n",
    "    time.sleep(1)"
   ]
  },
  {
   "cell_type": "code",
   "execution_count": null,
   "metadata": {},
   "outputs": [],
   "source": [
    "# I can find a date in the future by assigning the day, hour, or min"
   ]
  },
  {
   "cell_type": "code",
   "execution_count": null,
   "metadata": {},
   "outputs": [],
   "source": [
    "# snippet from SO, divmod only outputs tuple\n",
    "# {:02d} is two decimal int\n",
    "def countdown(t):\n",
    "    while t:\n",
    "        mins, secs = divmod(t, 60)\n",
    "        timeformat = '{:02d}:{:02d}'.format(mins, secs)\n",
    "        print(timeformat, end='\\r') # print timeformat \n",
    "        time.sleep(1)\n",
    "        t -= 1\n",
    "    print('Goodbye!\\n\\n\\n\\n\\n')"
   ]
  },
  {
   "cell_type": "code",
   "execution_count": null,
   "metadata": {},
   "outputs": [],
   "source": [
    "countdown(5)"
   ]
  },
  {
   "cell_type": "code",
   "execution_count": null,
   "metadata": {},
   "outputs": [],
   "source": [
    "# Snippet I took from SO, works for what I need it to do.\n",
    "\n",
    "print('Enter lenght of time for project')\n",
    "print(' ')\n",
    "\n",
    "dy=input('Enter # of days: ')\n",
    "hr=input('Enter # of hours: ')\n",
    "print(' ')\n",
    "\n",
    "day=int(dy)\n",
    "hour=int(hr)\n",
    "min = 0\n",
    "sec= 60\n",
    "\n",
    "\n",
    "# Take a look at the while statements. Can this be written better?\n",
    "\n",
    "\n",
    "while day > -1:\n",
    "    while hour > -1:\n",
    "        sec=sec-1\n",
    "        time.sleep(1)\n",
    "        sec1 = ('%02.f' % sec)  # format\n",
    "        min1 = ('%02.f' % min)\n",
    "        hour1 = ('%02.f' % hour)\n",
    "        day1 = ('%02.f' % day)\n",
    "        sys.stdout.write('\\r' + str(day1) + ':' + str(hour1) + ':' + str(min1) + ':' + str(sec1))\n",
    "\n",
    "    hour=hour-1\n",
    "    sec=60\n",
    "day=day-1\n",
    "min=59\n",
    "\n",
    "Print('Countdown Complete.')\n",
    "time.sleep(30)"
   ]
  },
  {
   "cell_type": "code",
   "execution_count": null,
   "metadata": {},
   "outputs": [],
   "source": []
  },
  {
   "cell_type": "code",
   "execution_count": null,
   "metadata": {},
   "outputs": [],
   "source": []
  },
  {
   "cell_type": "code",
   "execution_count": null,
   "metadata": {},
   "outputs": [],
   "source": []
  },
  {
   "cell_type": "code",
   "execution_count": null,
   "metadata": {},
   "outputs": [],
   "source": []
  },
  {
   "cell_type": "code",
   "execution_count": null,
   "metadata": {},
   "outputs": [],
   "source": []
  },
  {
   "cell_type": "code",
   "execution_count": null,
   "metadata": {},
   "outputs": [],
   "source": []
  },
  {
   "cell_type": "code",
   "execution_count": null,
   "metadata": {},
   "outputs": [],
   "source": []
  },
  {
   "cell_type": "code",
   "execution_count": null,
   "metadata": {},
   "outputs": [],
   "source": []
  },
  {
   "cell_type": "code",
   "execution_count": null,
   "metadata": {},
   "outputs": [],
   "source": []
  },
  {
   "cell_type": "code",
   "execution_count": null,
   "metadata": {},
   "outputs": [],
   "source": []
  },
  {
   "cell_type": "code",
   "execution_count": null,
   "metadata": {},
   "outputs": [],
   "source": []
  },
  {
   "cell_type": "code",
   "execution_count": null,
   "metadata": {},
   "outputs": [],
   "source": []
  },
  {
   "cell_type": "code",
   "execution_count": null,
   "metadata": {},
   "outputs": [],
   "source": []
  },
  {
   "cell_type": "code",
   "execution_count": null,
   "metadata": {},
   "outputs": [],
   "source": []
  },
  {
   "cell_type": "code",
   "execution_count": null,
   "metadata": {},
   "outputs": [],
   "source": []
  }
 ],
 "metadata": {
  "kernelspec": {
   "display_name": "Python 3",
   "language": "python",
   "name": "python3"
  },
  "language_info": {
   "codemirror_mode": {
    "name": "ipython",
    "version": 3
   },
   "file_extension": ".py",
   "mimetype": "text/x-python",
   "name": "python",
   "nbconvert_exporter": "python",
   "pygments_lexer": "ipython3",
   "version": "3.7.4"
  }
 },
 "nbformat": 4,
 "nbformat_minor": 4
}
