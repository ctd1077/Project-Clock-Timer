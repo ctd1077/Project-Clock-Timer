{
 "cells": [
  {
   "cell_type": "markdown",
   "metadata": {},
   "source": [
    "# Project Clock Timer\n",
    "- Clock timer\n",
    "- UI\n",
    "- Email updates daily"
   ]
  },
  {
   "cell_type": "code",
   "execution_count": null,
   "metadata": {},
   "outputs": [],
   "source": [
    "# TODO:\n",
    "    # Create the clock and timer\n",
    "    # Day \n",
    "    # Hour\n",
    "    # Min\n",
    "    # Sec"
   ]
  },
  {
   "cell_type": "code",
   "execution_count": 1,
   "metadata": {},
   "outputs": [],
   "source": [
    "# import time\n",
    "# import sys\n",
    "import json\n",
    "import datetime\n",
    "from datetime import timedelta\n",
    "from datetime import datetime"
   ]
  },
  {
   "cell_type": "code",
   "execution_count": null,
   "metadata": {},
   "outputs": [],
   "source": [
    "# Snippet I took from SO, works for what I need it to do.\n",
    "# Probably won't use this code\n",
    "\n",
    "#print('Enter lenght of time for project')\n",
    "#print(' ')\n",
    "\n",
    "#dy=input('Enter # of days: ')\n",
    "#hr=input('Enter # of hours: ')\n",
    "#print(' ')\n",
    "\n",
    "#day=int(dy)\n",
    "#hour=int(hr)\n",
    "#min = 0\n",
    "#sec = 1\n",
    "#dic = {'Day':day, 'Hour':hour,'Minute':min, 'Second': sec}\n",
    "\n",
    "#while day > -1:\n",
    "    #while hour > -1:\n",
    "        #while min > -1:\n",
    "            #while sec > 0:\n",
    "                #sec=sec-1\n",
    "                #time.sleep(1)\n",
    "                #sec1 = ('%02.f' % sec)  # format\n",
    "                #min1 = ('%02.f' % min)\n",
    "                #hour1 = ('%02.f' % hour)\n",
    "                #day1 = ('%02.f' % day)\n",
    "                #sys.stdout.write('\\r' + str(day1) + ':' + str(hour1) + ':' + str(min1) + ':' + str(sec1))\n",
    "\n",
    "            #min=min-1\n",
    "            #sec=60\n",
    "        #hour=hour-1\n",
    "        #min=59\n",
    "    #day=day-1\n",
    "    #hour=23\n",
    "\n",
    "#print('Countdown Complete.')\n",
    "#time.sleep(30)"
   ]
  },
  {
   "cell_type": "code",
   "execution_count": null,
   "metadata": {},
   "outputs": [],
   "source": [
    "# Need another approach\n",
    "# grab date\n",
    "# save that date\n",
    "# calculate the difference between now and that date\n",
    "# print the difference by the second"
   ]
  },
  {
   "cell_type": "code",
   "execution_count": 2,
   "metadata": {},
   "outputs": [],
   "source": [
    "eop = 'Times Up'\n",
    "unc = 'Under Construction'"
   ]
  },
  {
   "cell_type": "code",
   "execution_count": 3,
   "metadata": {},
   "outputs": [],
   "source": [
    "# Finds the difference between two dates\n",
    "def days_between(d1, d2):\n",
    "    d1 = datetime.strptime(d1, \"%Y-%m-%d-%H-%M-%S\")\n",
    "    d2 = datetime.strptime(d2, \"%Y-%m-%d-%H-%M-%S\")\n",
    "    return abs((d2 - d1))"
   ]
  },
  {
   "cell_type": "code",
   "execution_count": 4,
   "metadata": {},
   "outputs": [],
   "source": [
    "# This line suggest three inputs from the user\n",
    "d1 = '2020-06-12-0-0-0'"
   ]
  },
  {
   "cell_type": "code",
   "execution_count": 5,
   "metadata": {},
   "outputs": [],
   "source": [
    "# Creates current datetime object\n",
    "current_date_and_time = datetime.now()"
   ]
  },
  {
   "cell_type": "code",
   "execution_count": 7,
   "metadata": {},
   "outputs": [],
   "source": [
    "# Using date and time functions \n",
    "# the current date time is broken up\n",
    "# to create a the proper format\n",
    "a = str(current_date_and_time.date())\n",
    "b = str(current_date_and_time.time())"
   ]
  },
  {
   "cell_type": "code",
   "execution_count": null,
   "metadata": {},
   "outputs": [],
   "source": [
    "# the date format is correct next\n",
    "# format time to match date\n",
    "# then concat both strs to match"
   ]
  },
  {
   "cell_type": "code",
   "execution_count": 8,
   "metadata": {},
   "outputs": [],
   "source": [
    "b = b.replace(\":\", \"-\")"
   ]
  },
  {
   "cell_type": "code",
   "execution_count": 9,
   "metadata": {},
   "outputs": [],
   "source": [
    "b = b.split('.')[0]"
   ]
  },
  {
   "cell_type": "code",
   "execution_count": null,
   "metadata": {},
   "outputs": [],
   "source": [
    "# Added both str together"
   ]
  },
  {
   "cell_type": "code",
   "execution_count": 11,
   "metadata": {},
   "outputs": [],
   "source": [
    "d2 = a+'-'+b"
   ]
  },
  {
   "cell_type": "code",
   "execution_count": null,
   "metadata": {},
   "outputs": [],
   "source": [
    "# Show both strs match"
   ]
  },
  {
   "cell_type": "code",
   "execution_count": 15,
   "metadata": {},
   "outputs": [
    {
     "data": {
      "text/plain": [
       "'2020-03-22-15-28-28'"
      ]
     },
     "execution_count": 15,
     "metadata": {},
     "output_type": "execute_result"
    }
   ],
   "source": [
    "d2"
   ]
  },
  {
   "cell_type": "code",
   "execution_count": 16,
   "metadata": {},
   "outputs": [
    {
     "data": {
      "text/plain": [
       "'2020-06-12-0-0-0'"
      ]
     },
     "execution_count": 16,
     "metadata": {},
     "output_type": "execute_result"
    }
   ],
   "source": [
    "d1"
   ]
  },
  {
   "cell_type": "code",
   "execution_count": 17,
   "metadata": {},
   "outputs": [
    {
     "data": {
      "text/plain": [
       "datetime.timedelta(days=81, seconds=30692)"
      ]
     },
     "execution_count": 17,
     "metadata": {},
     "output_type": "execute_result"
    }
   ],
   "source": [
    "days_between(d1, d2)"
   ]
  },
  {
   "cell_type": "code",
   "execution_count": 18,
   "metadata": {},
   "outputs": [],
   "source": [
    "# Next seperate the timedelta out in the format above\n",
    "# and update every second\n",
    "\n",
    "# Also save d1, probaly as dic in json file and retrieve\n",
    "# until overwritten"
   ]
  }
 ],
 "metadata": {
  "kernelspec": {
   "display_name": "Python 3",
   "language": "python",
   "name": "python3"
  },
  "language_info": {
   "codemirror_mode": {
    "name": "ipython",
    "version": 3
   },
   "file_extension": ".py",
   "mimetype": "text/x-python",
   "name": "python",
   "nbconvert_exporter": "python",
   "pygments_lexer": "ipython3",
   "version": "3.7.4"
  }
 },
 "nbformat": 4,
 "nbformat_minor": 4
}
